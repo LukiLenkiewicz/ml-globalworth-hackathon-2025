{
 "cells": [
  {
   "cell_type": "code",
   "execution_count": 192,
   "metadata": {},
   "outputs": [],
   "source": [
    "import requests\n",
    "API_URL = \"http://localhost:8000\""
   ]
  },
  {
   "cell_type": "code",
   "execution_count": 216,
   "metadata": {},
   "outputs": [],
   "source": [
    "data = {\n",
    "   \"preferred_city\": {'description': 'Preferowane miasto',\n",
    "  'title': 'Preferred City',\n",
    "  'type': 'string',\n",
    "  'value': 'Warszawa'},\n",
    "'preferred_district_or_area': {'description': 'Preferowana dzielnica, okolica lub konkretna ulica',\n",
    "  'title': 'Preferred District Or Area',\n",
    "  'type': 'string',\n",
    "  'value': 'Śródmieście'},\n",
    " 'preferred_floor': {'description': 'Preferowane piętro (np. parter, wysokie piętro, dowolne)',\n",
    "  'title': 'Preferred Floor',\n",
    "  'type': 'string',\n",
    "  'value': \"Niskie piętro\"},\n",
    " 'office_area_m2': {'description': 'Wymagana powierzchnia biura w m²',\n",
    "  'exclusiveMinimum': 0,\n",
    "  'title': 'Office Area M2',\n",
    "  'type': 'integer',\n",
    "  'value': 1000},\n",
    " 'number_of_employees': {'description': 'Liczba pracowników/stanowisk pracy',\n",
    "  'exclusiveMinimum': 0,\n",
    "  'title': 'Number Of Employees',\n",
    "  'type': 'integer',\n",
    "  'value': 200},\n",
    " 'office_type': {'description': 'Rodzaj przestrzeni (np. Biuro prywatne, Open space, Coworking, Inne)',\n",
    "  'title': 'Office Type',\n",
    "  'type': 'string',\n",
    "  'value': \"Open space z wydzielonymi salkami konferencyjnymi\"},\n",
    " 'rental_period_start': {'description': 'Data rozpoczęcia najmu (format RRRR-MM-DD)',\n",
    "  'format': 'date',\n",
    "  'title': 'Rental Period Start',\n",
    "  'type': 'string',\n",
    "  'value': \"2025-06-01\"},\n",
    " 'rental_period_end': {'anyOf': [{'format': 'date', 'type': 'string'},\n",
    "   {'type': 'null'}],\n",
    "  'default': None,\n",
    "  'description': 'Data zakończenia najmu, jeśli dotyczy',\n",
    "  'title': 'Rental Period End',\n",
    "  'value': \"2025-12-01\"},\n",
    " 'rental_period_unlimited': {'description': 'Czy najem ma być na czas nieokreślony (true/false)',\n",
    "  'title': 'Rental Period Unlimited',\n",
    "  'type': 'boolean',\n",
    "  'value': False},\n",
    " 'access_hours': {'description': 'Godziny dostępu (np. 24/7, w godzinach pracy, inne)',\n",
    "  'title': 'Access Hours',\n",
    "  'type': 'string',\n",
    "  'value': \"24/7\"},\n",
    " 'monthly_budget_net_PLN': {'description': 'Miesięczny budżet netto w PLN',\n",
    "  'exclusiveMinimum': 0,\n",
    "  'title': 'Monthly Budget Net Pln',\n",
    "  'type': 'number',\n",
    "  'value': 30000.0}\n",
    "}"
   ]
  },
  {
   "cell_type": "code",
   "execution_count": 220,
   "metadata": {},
   "outputs": [],
   "source": [
    "response = requests.post(f\"{API_URL}/find-best-inquiry-match/\", json=data)"
   ]
  },
  {
   "cell_type": "code",
   "execution_count": 222,
   "metadata": {},
   "outputs": [
    {
     "data": {
      "text/plain": [
       "{'building_match': 'Warsaw Trade Tower',\n",
       " 'building_images': ['tower_images/Warsaw_Trade_Tower.jpg'],\n",
       " 'office_match': '1',\n",
       " 'office_images': ['office_images/1st_floor_1.jpeg',\n",
       "  'office_images/1st_floor_2.jpg'],\n",
       " 'recommendation_text': 'Zalecam zapoznanie się z ofertą Warsaw Trade Tower. Choć cena może przekraczać budżet, budynek spełnia pozostałe kryteria, a jego lokalizacja jest korzystna. Proszę mieć na uwadze, że dostępność w tym budynku zaczyna się od 04.04.2025.Rekomenduję rozważenie biura na pierwszym piętrze, które spełnia wymagany metraż i jest dostępne w najbliższym czasie. Należy jednak wziąć pod uwagę, że miesięczny koszt będzie wyższy niż zakładany budżet.'}"
      ]
     },
     "execution_count": 222,
     "metadata": {},
     "output_type": "execute_result"
    }
   ],
   "source": [
    "response.json()"
   ]
  }
 ],
 "metadata": {
  "kernelspec": {
   "display_name": ".venv",
   "language": "python",
   "name": "python3"
  },
  "language_info": {
   "codemirror_mode": {
    "name": "ipython",
    "version": 3
   },
   "file_extension": ".py",
   "mimetype": "text/x-python",
   "name": "python",
   "nbconvert_exporter": "python",
   "pygments_lexer": "ipython3",
   "version": "3.11.11"
  }
 },
 "nbformat": 4,
 "nbformat_minor": 2
}
