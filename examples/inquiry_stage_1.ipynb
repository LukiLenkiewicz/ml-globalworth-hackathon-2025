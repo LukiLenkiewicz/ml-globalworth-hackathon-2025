{
 "cells": [
  {
   "cell_type": "code",
   "execution_count": 116,
   "metadata": {},
   "outputs": [],
   "source": [
    "import requests\n",
    "API_URL = \"http://localhost:8000\""
   ]
  },
  {
   "cell_type": "code",
   "execution_count": 134,
   "metadata": {},
   "outputs": [],
   "source": [
    "response = requests.post(f\"{API_URL}/start-inquiry/\")\n",
    "next = response.json()"
   ]
  },
  {
   "cell_type": "code",
   "execution_count": 136,
   "metadata": {},
   "outputs": [
    {
     "name": "stdout",
     "output_type": "stream",
     "text": [
      "Jaką powierzchnię biura w m² potrzebujesz oraz ile osób będzie pracować w tym biurze?\n"
     ]
    }
   ],
   "source": [
    "print(next['next_question'])"
   ]
  },
  {
   "cell_type": "code",
   "execution_count": 145,
   "metadata": {},
   "outputs": [],
   "source": [
    "message = \"Potrzebuję biura na 120m i żeby pomieściło 20 osób. Najlepiej w centrum miasta.\"\n",
    "\n",
    "data = {\n",
    "    \"message\": message,\n",
    "    \"conversation_state\": {\n",
    "        \"next_question\": \"\",\n",
    "        'inquiry_state': next['inquiry_state'],\n",
    "        'conversation_completed': False\n",
    "    }\n",
    "}\n",
    "response = requests.post(f\"{API_URL}/parse-inquiry-message/\", json=data)\n",
    "next2 = response.json()"
   ]
  },
  {
   "cell_type": "code",
   "execution_count": 147,
   "metadata": {},
   "outputs": [
    {
     "name": "stdout",
     "output_type": "stream",
     "text": [
      "Jakiego rodzaju przestrzeni biurowej szukasz (np. biuro prywatne, open space, coworking)? Czy masz jakieś preferencje dotyczące daty rozpoczęcia najmu?\n"
     ]
    }
   ],
   "source": [
    "if next2['conversation_completed']:\n",
    "    print(\"Koniec rozmowy\")\n",
    "    # store next2['inquiry_state'] in database\n",
    "else:\n",
    "    print(next2['next_question'])"
   ]
  }
 ],
 "metadata": {
  "kernelspec": {
   "display_name": ".venv",
   "language": "python",
   "name": "python3"
  },
  "language_info": {
   "codemirror_mode": {
    "name": "ipython",
    "version": 3
   },
   "file_extension": ".py",
   "mimetype": "text/x-python",
   "name": "python",
   "nbconvert_exporter": "python",
   "pygments_lexer": "ipython3",
   "version": "3.11.11"
  }
 },
 "nbformat": 4,
 "nbformat_minor": 2
}
