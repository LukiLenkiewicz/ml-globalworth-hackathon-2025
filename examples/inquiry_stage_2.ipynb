{
 "cells": [
  {
   "cell_type": "code",
   "execution_count": 2,
   "metadata": {},
   "outputs": [],
   "source": [
    "import requests\n",
    "API_URL = \"http://localhost:8000\""
   ]
  },
  {
   "cell_type": "code",
   "execution_count": 11,
   "metadata": {},
   "outputs": [],
   "source": [
    "response = requests.post(f\"{API_URL}/start-design/\")\n",
    "next = response.json()"
   ]
  },
  {
   "cell_type": "code",
   "execution_count": 15,
   "metadata": {},
   "outputs": [
    {
     "name": "stdout",
     "output_type": "stream",
     "text": [
      "Jaki styl aranżacji biura preferujesz? Na przykład: Nowoczesny, Klasyczny, Industrialny, Skandynawski, Minimalistyczny, czy może inny?\n"
     ]
    }
   ],
   "source": [
    "print(next['next_question'])"
   ]
  },
  {
   "cell_type": "code",
   "execution_count": 16,
   "metadata": {},
   "outputs": [],
   "source": [
    "message = \"Chciałbym urządzić biuro w stylu skandynawskim\"\n",
    "\n",
    "data = {\n",
    "    \"message\": message,\n",
    "    \"conversation_state\": {\n",
    "        \"next_question\": \"\",\n",
    "        'inquiry_state': next['inquiry_state'],\n",
    "        'conversation_completed': False\n",
    "    }\n",
    "}\n",
    "response = requests.post(f\"{API_URL}/parse-design-message/\", json=data)\n",
    "next2 = response.json()"
   ]
  },
  {
   "cell_type": "code",
   "execution_count": 17,
   "metadata": {},
   "outputs": [
    {
     "name": "stdout",
     "output_type": "stream",
     "text": [
      "Jakie układy biura byłyby dla Ciebie najważniejsze? Na przykład, czy preferujesz open space, sale konferencyjne czy może coś innego?\n"
     ]
    }
   ],
   "source": [
    "if next2['conversation_completed']:\n",
    "    print(\"Koniec rozmowy\")\n",
    "    # store next2['inquiry_state'] in database\n",
    "else:\n",
    "    print(next2['next_question'])"
   ]
  }
 ],
 "metadata": {
  "kernelspec": {
   "display_name": ".venv",
   "language": "python",
   "name": "python3"
  },
  "language_info": {
   "codemirror_mode": {
    "name": "ipython",
    "version": 3
   },
   "file_extension": ".py",
   "mimetype": "text/x-python",
   "name": "python",
   "nbconvert_exporter": "python",
   "pygments_lexer": "ipython3",
   "version": "3.11.11"
  }
 },
 "nbformat": 4,
 "nbformat_minor": 2
}
