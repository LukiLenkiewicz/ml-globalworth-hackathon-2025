{
 "cells": [
  {
   "cell_type": "code",
   "execution_count": 3,
   "metadata": {},
   "outputs": [],
   "source": [
    "import requests\n",
    "API_URL = \"http://localhost:8000\""
   ]
  },
  {
   "cell_type": "code",
   "execution_count": 5,
   "metadata": {},
   "outputs": [],
   "source": [
    "data = {\n",
    "    \"interior_style\": {\n",
    "        \"description\": \"Preferowany styl aranżacji (np. Nowoczesny, Klasyczny, Industrialny, Skandynawski, Minimalistyczny, Inny)\",\n",
    "        \"value\": \"Skandynawski z elementami naturalnymi\"\n",
    "    },\n",
    "    \"layout_preferences\": {\n",
    "        \"description\": \"Lista preferowanych układów biura, np. Open space, Sale konferencyjne, Biura prywatne, Kącik relaksacyjny\",\n",
    "        \"value\": [\n",
    "            \"Open space\",\n",
    "            \"Chill-out room\"\n",
    "        ]\n",
    "    },\n",
    "    \"equipment_and_features\": {\n",
    "        \"description\": \"Lista wymaganych elementów wyposażenia (np. Meble biurowe, Krzesła ergonomiczne, Stoliki kawowe, Stół bilardowy i inne)\",\n",
    "        \"value\": [\n",
    "            \"Krzesła ergonomiczne\",\n",
    "            \"Biurka\",\n",
    "            \"Stół do ping-ponga\",\n",
    "            \"Wygodne pufy i sofy\",\n",
    "            \"Rośliny doniczkowe\",\n",
    "        ]\n",
    "    },\n",
    "    \"additional_notes_on_design\": {\n",
    "        \"description\": \"Dodatkowe wymagania i preferencje dotyczące aranżacji biura\",\n",
    "        \"value\": \"W przestrzeniach wspólnych zalecane są ciepłe kolory i materiały.\"\n",
    "    }\n",
    "}"
   ]
  },
  {
   "cell_type": "code",
   "execution_count": 6,
   "metadata": {},
   "outputs": [],
   "source": [
    "response = requests.post(f\"{API_URL}/get-initial-design/\", json=data)"
   ]
  },
  {
   "cell_type": "code",
   "execution_count": 10,
   "metadata": {},
   "outputs": [
    {
     "data": {
      "text/plain": [
       "{'spaces': [{'space_name': 'Open Space',\n",
       "   'design_description': 'A bright, airy open space infused with Scandinavian elements. The layout prioritizes natural light, with workstations placed near large windows. Light wood desks paired with ergonomic chairs in soft, muted colors create a serene yet functional environment. Potted plants are scattered throughout to enhance the natural vibe.',\n",
       "   'layout_description': 'The area is divided into four distinct workstations, each with light wooden desks and ergonomic chairs positioned for optimal collaboration. Between the workstations, there are small plants and decorative items to create a welcoming atmosphere. Natural light floods the space, supplemented by sleek, minimal overhead lighting.',\n",
       "   'key_elements': ['Ergonomic chairs',\n",
       "    'Desks',\n",
       "    'Potted plants',\n",
       "    'Natural light',\n",
       "    'Collaborative layout']},\n",
       "  {'space_name': 'Chill-Out Room',\n",
       "   'design_description': 'A cozy chill-out room designed with relaxation in mind. Soft, warm colors dominate the space, with comfortable sofas and poufs in neutral tones to invite relaxation. The use of natural materials, such as wooden elements and plush textiles, contributes to the calming atmosphere.',\n",
       "   'layout_description': 'The room features a sectional sofa arranged in a U-shape, complemented by several large floor cushions and poufs. A coffee table made of reclaimed wood sits at the center, surrounded by green, leafy plants that add warmth and vibrancy. Soft, ambient lighting creates a relaxing environment.',\n",
       "   'key_elements': ['Comfortable sofas',\n",
       "    'Poufs',\n",
       "    'Reclaimed wood coffee table',\n",
       "    'Potted plants',\n",
       "    'Warm, ambient lighting']},\n",
       "  {'space_name': 'Meeting Area',\n",
       "   'design_description': 'A minimalist meeting area designed for collaborative discussions. Featuring a long wooden table with matching chairs, the space fosters an engaging environment. The focus remains on simplicity and functionality with a touch of natural aesthetics.',\n",
       "   'layout_description': 'The meeting area features a long rectangular table at the center, surrounded by ergonomic chairs. On one side, large windows provide ample natural light, while strategically placed plants enhance the decor. The walls are painted in a soft, warm hue, complemented by simple art pieces that highlight the Scandinavian theme.',\n",
       "   'key_elements': ['Meeting table and chairs',\n",
       "    'Natural light',\n",
       "    'Plants',\n",
       "    'Simple art decor',\n",
       "    'Warm wall colors']}]}"
      ]
     },
     "execution_count": 10,
     "metadata": {},
     "output_type": "execute_result"
    }
   ],
   "source": [
    "response.json()"
   ]
  }
 ],
 "metadata": {
  "kernelspec": {
   "display_name": ".venv",
   "language": "python",
   "name": "python3"
  },
  "language_info": {
   "codemirror_mode": {
    "name": "ipython",
    "version": 3
   },
   "file_extension": ".py",
   "mimetype": "text/x-python",
   "name": "python",
   "nbconvert_exporter": "python",
   "pygments_lexer": "ipython3",
   "version": "3.11.11"
  }
 },
 "nbformat": 4,
 "nbformat_minor": 2
}
